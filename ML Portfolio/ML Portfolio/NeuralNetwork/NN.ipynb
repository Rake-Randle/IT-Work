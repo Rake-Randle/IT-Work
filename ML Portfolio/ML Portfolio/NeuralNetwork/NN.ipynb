{
 "cells": [
  {
   "cell_type": "markdown",
   "id": "f3447a78",
   "metadata": {},
   "source": [
    "# A Simple Neural Network\n",
    "\n",
    "- [PolyCode](https://www.youtube.com/watch?v=kft1AJ9WVDk&t=210s)\n",
    "\n",
    "<img src=\"DataSet.png\" />\n",
    "\n",
    "**If input 1 is 1, then output is 1**\n",
    "\n",
    "<img src=\"perceptron.png\" />"
   ]
  },
  {
   "cell_type": "code",
   "execution_count": 48,
   "id": "42009663",
   "metadata": {},
   "outputs": [],
   "source": [
    "# Import libraries\n",
    "import numpy as np\n"
   ]
  },
  {
   "cell_type": "markdown",
   "id": "d47d7c28",
   "metadata": {},
   "source": [
    "## The Sigmoid Normalizing Function\n",
    "\n",
    "<img src=\"sigmoid.png\" />\n",
    "\n",
    "<p>In deep learning, a normalizing function, often referred to as normalization, serves the purpose of transforming the input data or intermediate representations in a way that helps the neural network learn more effectively and efficiently. Normalization techniques aim to address issues related to training convergence, generalization, and optimization by ensuring that the data or **activations** have certain desirable statistical properties.\n",
    "\n",
    "Normalization is particularly important when dealing with deep neural networks that have multiple layers, as the activations at different layers can exhibit large variations in magnitude, which can lead to challenges during training.</p>\n",
    "\n",
    "The purposes of these normalization techniques include:\n",
    "\n",
    "**Stabilizing Learning:** Normalization helps prevent gradients from becoming too large or too small, which can lead to training instability (exploding or vanishing gradients) and slow convergence.\n",
    "\n",
    "**Faster Convergence:** Normalization can lead to faster convergence by providing more consistent gradients and avoiding saturation of activation functions.\n",
    "\n",
    "**Regularization:** Normalization acts as a form of regularization by reducing the likelihood of overfitting. It can help prevent individual neurons from dominating the learning process.\n",
    "\n",
    "**Generalization:** Normalization can improve the generalization of a model by reducing the sensitivity of the network to small changes in input data.\n",
    "\n",
    "**Allowing Higher Learning Rates:** With normalized activations, it's often possible to use higher learning rates during training, which can speed up convergence."
   ]
  },
  {
   "cell_type": "code",
   "execution_count": 49,
   "id": "f665fae9",
   "metadata": {},
   "outputs": [],
   "source": [
    "# Set up the Sigmoid function\n",
    "def sigmoid(x):\n",
    "    return 1 / (1 + np.exp(-x))"
   ]
  },
  {
   "cell_type": "markdown",
   "id": "cddcfb6a",
   "metadata": {},
   "source": [
    "<img src=\"training.png\" />"
   ]
  },
  {
   "cell_type": "code",
   "execution_count": 50,
   "id": "c01f4a07",
   "metadata": {},
   "outputs": [],
   "source": [
    "# Set up the inputs matrix\n",
    "# These are the values of the problem set image above\n",
    "training_inputs = np.array([[0,0,1],\n",
    "                            [1,1,1],\n",
    "                            [1,0,1],\n",
    "                            [0,1,1]])"
   ]
  },
  {
   "cell_type": "code",
   "execution_count": 51,
   "id": "017e4222",
   "metadata": {},
   "outputs": [],
   "source": [
    "# Set up the output array, T = transpose\n",
    "training_outputs = np.array([[0,1,1,0]]).T"
   ]
  },
  {
   "cell_type": "code",
   "execution_count": 52,
   "id": "b583a06a",
   "metadata": {},
   "outputs": [],
   "source": [
    "# Setup intial values for weights using a random seed of 1\n",
    "np.random.seed(1)"
   ]
  },
  {
   "cell_type": "code",
   "execution_count": 53,
   "id": "9c005a56",
   "metadata": {},
   "outputs": [
    {
     "name": "stdout",
     "output_type": "stream",
     "text": [
      "Random Starting synaptic wights: \n",
      "[[-0.16595599]\n",
      " [ 0.44064899]\n",
      " [-0.99977125]]\n"
     ]
    }
   ],
   "source": [
    "# Setup the inital weights for the training\n",
    "synaptic_weights = 2 * np.random.random((3, 1)) - 1\n",
    "\n",
    "print('Random Starting synaptic wights: ')\n",
    "print(synaptic_weights)"
   ]
  },
  {
   "cell_type": "code",
   "execution_count": 54,
   "id": "61233732",
   "metadata": {},
   "outputs": [
    {
     "ename": "NameError",
     "evalue": "name 'adjustments' is not defined",
     "output_type": "error",
     "traceback": [
      "\u001b[1;31m---------------------------------------------------------------------------\u001b[0m",
      "\u001b[1;31mNameError\u001b[0m                                 Traceback (most recent call last)",
      "Cell \u001b[1;32mIn[54], line 8\u001b[0m\n\u001b[0;32m      4\u001b[0m     outputs \u001b[39m=\u001b[39m sigmoid(np\u001b[39m.\u001b[39mdot(input_layer, synaptic_weights))\n\u001b[0;32m      6\u001b[0m     error \u001b[39m=\u001b[39m training_outputs \u001b[39m-\u001b[39m outputs\n\u001b[1;32m----> 8\u001b[0m     adjustments      \n\u001b[0;32m      9\u001b[0m \u001b[39mprint\u001b[39m(\u001b[39m'\u001b[39m\u001b[39mOutputs after training: \u001b[39m\u001b[39m'\u001b[39m)\n\u001b[0;32m     10\u001b[0m \u001b[39mprint\u001b[39m(outputs)\n",
      "\u001b[1;31mNameError\u001b[0m: name 'adjustments' is not defined"
     ]
    }
   ],
   "source": [
    "# Iterate throigh training data\n",
    "for iteration in range(1): \n",
    "    input_layer = training_inputs\n",
    "    outputs = sigmoid(np.dot(input_layer, synaptic_weights))\n",
    "\n",
    "    error = training_outputs - outputs    \n",
    "print('Outputs after training: ')\n",
    "print(outputs)"
   ]
  }
 ],
 "metadata": {
  "kernelspec": {
   "display_name": "Python 3 (ipykernel)",
   "language": "python",
   "name": "python3"
  },
  "language_info": {
   "codemirror_mode": {
    "name": "ipython",
    "version": 3
   },
   "file_extension": ".py",
   "mimetype": "text/x-python",
   "name": "python",
   "nbconvert_exporter": "python",
   "pygments_lexer": "ipython3",
   "version": "3.11.4"
  }
 },
 "nbformat": 4,
 "nbformat_minor": 5
}
